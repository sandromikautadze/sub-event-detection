{
 "cells": [
  {
   "cell_type": "markdown",
   "metadata": {},
   "source": [
    "This notebook is used to analyze the data and do some basic preprocessing."
   ]
  },
  {
   "cell_type": "markdown",
   "metadata": {},
   "source": [
    "DONE: some analysis\n",
    "\n",
    "**TODO**: preprocessing (not necessary for BERT finetuning though!)\n",
    "- all lowercase\n",
    "- remove tags @\n",
    "- remove hashtags (?)\n",
    "- remove puntuation\n",
    "- remove stopwords\n",
    "- expand contractions (pycontractions)"
   ]
  },
  {
   "cell_type": "code",
   "execution_count": 1,
   "metadata": {},
   "outputs": [
    {
     "name": "stderr",
     "output_type": "stream",
     "text": [
      "[nltk_data] Downloading package stopwords to\n",
      "[nltk_data]     C:\\Users\\sandr\\AppData\\Roaming\\nltk_data...\n",
      "[nltk_data]   Package stopwords is already up-to-date!\n"
     ]
    },
    {
     "data": {
      "text/plain": [
       "True"
      ]
     },
     "execution_count": 1,
     "metadata": {},
     "output_type": "execute_result"
    }
   ],
   "source": [
    "import numpy as np\n",
    "import pandas as pd\n",
    "import matplotlib.pyplot as plt\n",
    "import nltk\n",
    "from nltk.corpus import stopwords\n",
    "from collections import defaultdict, Counter\n",
    "import seaborn as sns\n",
    "nltk.download(\"stopwords\")"
   ]
  },
  {
   "cell_type": "code",
   "execution_count": 2,
   "metadata": {},
   "outputs": [
    {
     "data": {
      "text/html": [
       "<div>\n",
       "<style scoped>\n",
       "    .dataframe tbody tr th:only-of-type {\n",
       "        vertical-align: middle;\n",
       "    }\n",
       "\n",
       "    .dataframe tbody tr th {\n",
       "        vertical-align: top;\n",
       "    }\n",
       "\n",
       "    .dataframe thead th {\n",
       "        text-align: right;\n",
       "    }\n",
       "</style>\n",
       "<table border=\"1\" class=\"dataframe\">\n",
       "  <thead>\n",
       "    <tr style=\"text-align: right;\">\n",
       "      <th></th>\n",
       "      <th>ID</th>\n",
       "      <th>MatchID</th>\n",
       "      <th>PeriodID</th>\n",
       "      <th>EventType</th>\n",
       "      <th>Timestamp</th>\n",
       "      <th>Tweet</th>\n",
       "    </tr>\n",
       "  </thead>\n",
       "  <tbody>\n",
       "    <tr>\n",
       "      <th>0</th>\n",
       "      <td>11_0</td>\n",
       "      <td>11</td>\n",
       "      <td>0</td>\n",
       "      <td>0</td>\n",
       "      <td>1404575400000</td>\n",
       "      <td>RT @2014WorIdCup: Argentina vs Belgium\\n\\nWho ...</td>\n",
       "    </tr>\n",
       "    <tr>\n",
       "      <th>1</th>\n",
       "      <td>11_0</td>\n",
       "      <td>11</td>\n",
       "      <td>0</td>\n",
       "      <td>0</td>\n",
       "      <td>1404575400000</td>\n",
       "      <td>@elijahman_ time to focus on Belgium winning t...</td>\n",
       "    </tr>\n",
       "    <tr>\n",
       "      <th>2</th>\n",
       "      <td>11_0</td>\n",
       "      <td>11</td>\n",
       "      <td>0</td>\n",
       "      <td>0</td>\n",
       "      <td>1404575400000</td>\n",
       "      <td>RT @FIFAWorldCup: GLOBAL STADIUM: #Joinin with...</td>\n",
       "    </tr>\n",
       "    <tr>\n",
       "      <th>3</th>\n",
       "      <td>11_0</td>\n",
       "      <td>11</td>\n",
       "      <td>0</td>\n",
       "      <td>0</td>\n",
       "      <td>1404575400000</td>\n",
       "      <td>RT @CatholicNewsSvc: #PopeFrancis. Uh-oh. Arge...</td>\n",
       "    </tr>\n",
       "    <tr>\n",
       "      <th>4</th>\n",
       "      <td>11_0</td>\n",
       "      <td>11</td>\n",
       "      <td>0</td>\n",
       "      <td>0</td>\n",
       "      <td>1404575400000</td>\n",
       "      <td>RT @soccerdotcom: If he scores vs #BEL we'll a...</td>\n",
       "    </tr>\n",
       "  </tbody>\n",
       "</table>\n",
       "</div>"
      ],
      "text/plain": [
       "     ID  MatchID  PeriodID  EventType      Timestamp  \\\n",
       "0  11_0       11         0          0  1404575400000   \n",
       "1  11_0       11         0          0  1404575400000   \n",
       "2  11_0       11         0          0  1404575400000   \n",
       "3  11_0       11         0          0  1404575400000   \n",
       "4  11_0       11         0          0  1404575400000   \n",
       "\n",
       "                                               Tweet  \n",
       "0  RT @2014WorIdCup: Argentina vs Belgium\\n\\nWho ...  \n",
       "1  @elijahman_ time to focus on Belgium winning t...  \n",
       "2  RT @FIFAWorldCup: GLOBAL STADIUM: #Joinin with...  \n",
       "3  RT @CatholicNewsSvc: #PopeFrancis. Uh-oh. Arge...  \n",
       "4  RT @soccerdotcom: If he scores vs #BEL we'll a...  "
      ]
     },
     "execution_count": 2,
     "metadata": {},
     "output_type": "execute_result"
    }
   ],
   "source": [
    "df = pd.read_csv(\"data/train_tweets/ArgentinaBelgium72.csv\")\n",
    "df.head()"
   ]
  },
  {
   "cell_type": "markdown",
   "metadata": {},
   "source": [
    "From the dataset dictionary in the Kaggle group the columns are described as follows:\n",
    "- ID: An identifier which is the combination of the following two IDs\n",
    "- MatchID: An identifier for each football match.\n",
    "- PeriodID: An identifier for the time period within the match. Each period is 1 minute long.\n",
    "- EventType: A binary label indicating the presence (1) or absence (0) of a sub-event in the given time period.\n",
    "- Timestamp: A Unix timestamp indicating when the tweet was posted.\n",
    "- Tweet: The text content of the tweet."
   ]
  },
  {
   "cell_type": "code",
   "execution_count": 3,
   "metadata": {},
   "outputs": [
    {
     "data": {
      "text/plain": [
       "((313803, 6),\n",
       " ID           object\n",
       " MatchID       int64\n",
       " PeriodID      int64\n",
       " EventType     int64\n",
       " Timestamp     int64\n",
       " Tweet        object\n",
       " dtype: object)"
      ]
     },
     "execution_count": 3,
     "metadata": {},
     "output_type": "execute_result"
    }
   ],
   "source": [
    "df.shape, df.dtypes"
   ]
  },
  {
   "cell_type": "code",
   "execution_count": 4,
   "metadata": {},
   "outputs": [
    {
     "data": {
      "text/html": [
       "<div>\n",
       "<style scoped>\n",
       "    .dataframe tbody tr th:only-of-type {\n",
       "        vertical-align: middle;\n",
       "    }\n",
       "\n",
       "    .dataframe tbody tr th {\n",
       "        vertical-align: top;\n",
       "    }\n",
       "\n",
       "    .dataframe thead th {\n",
       "        text-align: right;\n",
       "    }\n",
       "</style>\n",
       "<table border=\"1\" class=\"dataframe\">\n",
       "  <thead>\n",
       "    <tr style=\"text-align: right;\">\n",
       "      <th></th>\n",
       "      <th>MatchID</th>\n",
       "      <th>PeriodID</th>\n",
       "      <th>EventType</th>\n",
       "      <th>Timestamp</th>\n",
       "    </tr>\n",
       "  </thead>\n",
       "  <tbody>\n",
       "    <tr>\n",
       "      <th>count</th>\n",
       "      <td>313803.0</td>\n",
       "      <td>313803.000000</td>\n",
       "      <td>313803.000000</td>\n",
       "      <td>3.138030e+05</td>\n",
       "    </tr>\n",
       "    <tr>\n",
       "      <th>mean</th>\n",
       "      <td>11.0</td>\n",
       "      <td>64.579985</td>\n",
       "      <td>0.608213</td>\n",
       "      <td>1.404579e+12</td>\n",
       "    </tr>\n",
       "    <tr>\n",
       "      <th>std</th>\n",
       "      <td>0.0</td>\n",
       "      <td>37.962749</td>\n",
       "      <td>0.488150</td>\n",
       "      <td>2.277785e+06</td>\n",
       "    </tr>\n",
       "    <tr>\n",
       "      <th>min</th>\n",
       "      <td>11.0</td>\n",
       "      <td>0.000000</td>\n",
       "      <td>0.000000</td>\n",
       "      <td>1.404575e+12</td>\n",
       "    </tr>\n",
       "    <tr>\n",
       "      <th>25%</th>\n",
       "      <td>11.0</td>\n",
       "      <td>31.000000</td>\n",
       "      <td>0.000000</td>\n",
       "      <td>1.404577e+12</td>\n",
       "    </tr>\n",
       "    <tr>\n",
       "      <th>50%</th>\n",
       "      <td>11.0</td>\n",
       "      <td>63.000000</td>\n",
       "      <td>1.000000</td>\n",
       "      <td>1.404579e+12</td>\n",
       "    </tr>\n",
       "    <tr>\n",
       "      <th>75%</th>\n",
       "      <td>11.0</td>\n",
       "      <td>99.000000</td>\n",
       "      <td>1.000000</td>\n",
       "      <td>1.404581e+12</td>\n",
       "    </tr>\n",
       "    <tr>\n",
       "      <th>max</th>\n",
       "      <td>11.0</td>\n",
       "      <td>129.000000</td>\n",
       "      <td>1.000000</td>\n",
       "      <td>1.404583e+12</td>\n",
       "    </tr>\n",
       "  </tbody>\n",
       "</table>\n",
       "</div>"
      ],
      "text/plain": [
       "        MatchID       PeriodID      EventType     Timestamp\n",
       "count  313803.0  313803.000000  313803.000000  3.138030e+05\n",
       "mean       11.0      64.579985       0.608213  1.404579e+12\n",
       "std         0.0      37.962749       0.488150  2.277785e+06\n",
       "min        11.0       0.000000       0.000000  1.404575e+12\n",
       "25%        11.0      31.000000       0.000000  1.404577e+12\n",
       "50%        11.0      63.000000       1.000000  1.404579e+12\n",
       "75%        11.0      99.000000       1.000000  1.404581e+12\n",
       "max        11.0     129.000000       1.000000  1.404583e+12"
      ]
     },
     "execution_count": 4,
     "metadata": {},
     "output_type": "execute_result"
    }
   ],
   "source": [
    "df.describe()"
   ]
  },
  {
   "cell_type": "code",
   "execution_count": 5,
   "metadata": {},
   "outputs": [
    {
     "name": "stdout",
     "output_type": "stream",
     "text": [
      "MatchID unique values: [11]\n",
      "PeriodID unique values: [  0   1   2   3   4   5   6   7   8   9  10  11  12  13  14  15  16  17\n",
      "  18  19  20  21  22  23  24  25  26  27  28  29  30  31  32  33  34  35\n",
      "  36  37  38  39  40  41  42  43  44  45  46  47  48  49  50  51  52  53\n",
      "  54  55  56  57  58  59  60  61  62  63  64  65  66  67  68  69  70  71\n",
      "  72  73  74  75  76  77  78  79  80  81  82  83  84  85  86  87  88  89\n",
      "  90  91  92  93  94  95  96  97  98  99 100 101 102 103 104 105 106 107\n",
      " 108 109 110 111 112 113 114 115 116 117 118 119 120 121 122 123 124 125\n",
      " 126 127 128 129]\n",
      "EventType unique values: [0 1]\n"
     ]
    }
   ],
   "source": [
    "for col in [\"MatchID\", \"PeriodID\", \"EventType\"]:\n",
    "    print(f\"{col} unique values: {df[col].unique()}\")"
   ]
  },
  {
   "cell_type": "code",
   "execution_count": 6,
   "metadata": {},
   "outputs": [
    {
     "data": {
      "image/png": "[encoded data removed]",
      "text/plain": [
       "<Figure size 640x480 with 1 Axes>"
      ]
     },
     "metadata": {},
     "output_type": "display_data"
    },
    {
     "data": {
      "image/png": "[encoded data removed]",
      "text/plain": [
       "<Figure size 640x480 with 1 Axes>"
      ]
     },
     "metadata": {},
     "output_type": "display_data"
    }
   ],
   "source": [
    "for col in [\"PeriodID\", \"Timestamp\"]:\n",
    "    plt.hist(df[col])\n",
    "    plt.title(f\"{col}\")\n",
    "    plt.show()"
   ]
  },
  {
   "cell_type": "code",
   "execution_count": 7,
   "metadata": {},
   "outputs": [
    {
     "data": {
      "text/plain": [
       "0.9999709733809615"
      ]
     },
     "execution_count": 7,
     "metadata": {},
     "output_type": "execute_result"
    }
   ],
   "source": [
    "df[\"PeriodID\"].corr(df[\"Timestamp\"])"
   ]
  },
  {
   "cell_type": "markdown",
   "metadata": {},
   "source": [
    "It seems like the two variables are linearly dependent, so maybe we could remove one.\n",
    "\n",
    "Let's look at the type of tweets."
   ]
  },
  {
   "cell_type": "code",
   "execution_count": 8,
   "metadata": {},
   "outputs": [
    {
     "name": "stdout",
     "output_type": "stream",
     "text": [
      "RT @2014WorIdCup: Argentina vs Belgium\n",
      "\n",
      "Who wins? | http://t.co/leuWTBZ1YY\n",
      "@elijahman_ time to focus on Belgium winning the World Cup 🔴🌕⚫️\n",
      "RT @FIFAWorldCup: GLOBAL STADIUM: #Joinin with our #WorldCup coverage of #ARGBEL from Brasilia #ARG #BEL - http://t.co/vL9aX7XMvh http://t.…\n",
      "RT @CatholicNewsSvc: #PopeFrancis. Uh-oh. Argentina vs Belgium in 30 mins. We're gonna miss it. http://t.co/Sj2Fnzmvrb\n",
      "RT @soccerdotcom: If he scores vs #BEL we'll award a Messi-signed @brazuca to one lucky winner! Follow & RT to enter. #allin or nothing htt…\n",
      "RT @soccerdotcom: If he scores vs #BEL we'll award a Messi-signed @brazuca to one lucky winner! Follow & RT to enter. #allin or nothing htt…\n",
      "I just hope Argentina lose. Would be fun to see Belgium go forward. As much as I want Leo to win the World Cup, want Belgium to qualify.\n",
      "Watch Argentina vs Belgium 5th July 2014 LIVE Go this link :- http://t.co/FpKI7U4s0h http://t.co/FpKI7U4s0h\n",
      "sdsd\n",
      "@JRMun0z why dont you like Argentina.\n",
      "Even though I hate Belgium for beating the US, their waffles are just too damn good\n"
     ]
    }
   ],
   "source": [
    "for i in range(10):\n",
    "    print(df[\"Tweet\"][i])"
   ]
  },
  {
   "cell_type": "markdown",
   "metadata": {},
   "source": [
    "We have several properties to consider in the preprocessing: \n",
    "- RT for retweets\n",
    "- links\n",
    "- emojis,\n",
    "- hashtags\n",
    "- tags"
   ]
  },
  {
   "cell_type": "code",
   "execution_count": 9,
   "metadata": {},
   "outputs": [
    {
     "data": {
      "text/plain": [
       "0.476461346768514"
      ]
     },
     "execution_count": 9,
     "metadata": {},
     "output_type": "execute_result"
    }
   ],
   "source": [
    "df[df[\"Tweet\"].str.contains(\"RT\")].shape[0] / df.shape[0] # retweets"
   ]
  },
  {
   "cell_type": "code",
   "execution_count": 10,
   "metadata": {},
   "outputs": [
    {
     "data": {
      "text/plain": [
       "0.4041962632607082"
      ]
     },
     "execution_count": 10,
     "metadata": {},
     "output_type": "execute_result"
    }
   ],
   "source": [
    "df[df[\"Tweet\"].duplicated()].shape[0] / df.shape[0] # duplicates"
   ]
  },
  {
   "cell_type": "code",
   "execution_count": 11,
   "metadata": {},
   "outputs": [
    {
     "name": "stderr",
     "output_type": "stream",
     "text": [
      "C:\\Users\\sandr\\AppData\\Local\\Temp\\ipykernel_50732\\2097233941.py:1: UserWarning: Boolean Series key will be reindexed to match DataFrame index.\n",
      "  df[df[\"Tweet\"].duplicated()][df[\"Tweet\"].str.contains(\"RT\")].shape[0] / df.shape[0] # of the duplicates how many are retweets\n"
     ]
    },
    {
     "data": {
      "text/plain": [
       "0.38794721529112214"
      ]
     },
     "execution_count": 11,
     "metadata": {},
     "output_type": "execute_result"
    }
   ],
   "source": [
    "df[df[\"Tweet\"].duplicated()][df[\"Tweet\"].str.contains(\"RT\")].shape[0] / df.shape[0] # of the duplicates how many are retweets"
   ]
  },
  {
   "cell_type": "markdown",
   "metadata": {},
   "source": [
    "40% of our datasets contains duplicates.\n",
    "\n",
    "Let's look at some other statistics of the data."
   ]
  },
  {
   "cell_type": "code",
   "execution_count": null,
   "metadata": {},
   "outputs": [
    {
     "data": {
      "text/plain": [
       "140"
      ]
     },
     "execution_count": 39,
     "metadata": {},
     "output_type": "execute_result"
    }
   ],
   "source": [
    "df[\"Tweet\"].str.len().max() # max number of words (useful for tokenization max length with BERT)"
   ]
  },
  {
   "cell_type": "code",
   "execution_count": 12,
   "metadata": {},
   "outputs": [
    {
     "data": {
      "image/png": "[encoded data removed]",
      "text/plain": [
       "<Figure size 640x480 with 1 Axes>"
      ]
     },
     "metadata": {},
     "output_type": "display_data"
    }
   ],
   "source": [
    "plt.hist(df[\"Tweet\"].str.len(), bins=50)\n",
    "plt.xlabel(\"Characters\")\n",
    "plt.ylabel(\"Number of tweets\")\n",
    "plt.show()"
   ]
  },
  {
   "cell_type": "code",
   "execution_count": 13,
   "metadata": {},
   "outputs": [
    {
     "data": {
      "image/png": "[encoded data removed]",
      "text/plain": [
       "<Figure size 640x480 with 1 Axes>"
      ]
     },
     "metadata": {},
     "output_type": "display_data"
    }
   ],
   "source": [
    "stop_words = set(stopwords.words(\"english\"))\n",
    "tweet_list = df[\"Tweet\"].str.split().values.tolist()\n",
    "corpus = [word for l in tweet_list for word in l]\n",
    "dict = defaultdict(int)\n",
    "for word in corpus:\n",
    "    if word in stop_words:\n",
    "        dict[word] += 1\n",
    "top=sorted(dict.items(), key=lambda x:x[1],reverse=True)[:10] \n",
    "x,y=zip(*top)\n",
    "plt.bar(x,y)\n",
    "plt.show()"
   ]
  },
  {
   "cell_type": "code",
   "execution_count": 37,
   "metadata": {},
   "outputs": [
    {
     "name": "stdout",
     "output_type": "stream",
     "text": [
      "Total number of words: 4349878\n",
      "Number of unique words: 187782 (4.3169486592497535 %)\n"
     ]
    }
   ],
   "source": [
    "unique_words = set(corpus)\n",
    "print(f\"Total number of words: {len(corpus)}\\nNumber of unique words: {len(unique_words)} ({(len(unique_words) / len(corpus))*100} %)\")"
   ]
  },
  {
   "cell_type": "code",
   "execution_count": 15,
   "metadata": {},
   "outputs": [
    {
     "data": {
      "text/plain": [
       "<Axes: >"
      ]
     },
     "execution_count": 15,
     "metadata": {},
     "output_type": "execute_result"
    },
    {
     "data": {
      "image/png": "[encoded data removed]",
      "text/plain": [
       "<Figure size 640x480 with 1 Axes>"
      ]
     },
     "metadata": {},
     "output_type": "display_data"
    }
   ],
   "source": [
    "counter=Counter(corpus)\n",
    "most=counter.most_common()\n",
    "x, y= [], []\n",
    "for word,count in most[:40]:\n",
    "    if (word not in stop_words):\n",
    "        x.append(word)\n",
    "        y.append(count)\n",
    "sns.barplot(x=y,y=x)"
   ]
  },
  {
   "cell_type": "markdown",
   "metadata": {},
   "source": [
    "Of course most terms are related to the teams and players. \n",
    "We could also think about removing \"vs\"?"
   ]
  }
 ],
 "metadata": {
  "kernelspec": {
   "display_name": "mldl-ecole",
   "language": "python",
   "name": "python3"
  },
  "language_info": {
   "codemirror_mode": {
    "name": "ipython",
    "version": 3
   },
   "file_extension": ".py",
   "mimetype": "text/x-python",
   "name": "python",
   "nbconvert_exporter": "python",
   "pygments_lexer": "ipython3",
   "version": "3.11.10"
  }
 },
 "nbformat": 4,
 "nbformat_minor": 2
}
